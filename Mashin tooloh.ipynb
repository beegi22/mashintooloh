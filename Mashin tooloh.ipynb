{
 "cells": [
  {
   "cell_type": "code",
   "execution_count": 14,
   "metadata": {},
   "outputs": [],
   "source": [
    "import cv2\n",
    "import time\n",
    "import darknet as dn\n",
    "from tqdm import tqdm\n",
    "import gc\n",
    "tracker_type = \"medianflow\"\n",
    "tracker = cv2.TrackerMedianFlow_create"
   ]
  },
  {
   "cell_type": "code",
   "execution_count": 15,
   "metadata": {},
   "outputs": [],
   "source": [
    "def dawhtsal(bbox1, bbox2):\n",
    "    #2 hairtsagnii dawhtsaliig tootsoolno.\n",
    "    bbox1_x1 = int(bbox1[0])\n",
    "    bbox1_y1 = int(bbox1[1])\n",
    "    bbox1_x2 = int(bbox1[0] + bbox1[2])\n",
    "    bbox1_y2 = int(bbox1[1] + bbox1[3])\n",
    "    bbox2_x1 = int(bbox2[0])\n",
    "    bbox2_y1 = int(bbox2[1])\n",
    "    bbox2_x2 = int(bbox2[0] + bbox2[2])\n",
    "    bbox2_y2 = int(bbox2[1] + bbox2[3])\n",
    "    dawhtsal_width = min(bbox1_x2, bbox2_x2) - max(bbox1_x1, bbox2_x1)\n",
    "    dawhtsal_height = min(bbox1_y2, bbox2_y2) - max(bbox1_y1, bbox2_y1)\n",
    "    if dawhtsal_width <= 0 or dawhtsal_height <= 0:\n",
    "        return 0.0\n",
    "    dawhtsal_area = dawhtsal_width * dawhtsal_height\n",
    "    bbox1_area = (bbox1_x2 - bbox1_x1) * (bbox1_y2 - bbox1_y1)\n",
    "    bbox2_area = (bbox2_x2 - bbox2_x1) * (bbox2_y2 - bbox2_y1)\n",
    "    if bbox1_area < bbox2_area:   \n",
    "        dawhtsal_huwi = dawhtsal_area / (bbox1_area) \n",
    "    else:\n",
    "        dawhtsal_huwi = dawhtsal_area / (bbox2_area)\n",
    "    return dawhtsal_huwi"
   ]
  },
  {
   "cell_type": "code",
   "execution_count": 16,
   "metadata": {},
   "outputs": [],
   "source": [
    "def ogtlol(line1, line2):\n",
    "    def get_orientation(p, q, r):\n",
    "        val = (q[1] - p[1]) * (r[0] - q[0]) - (q[0] - p[0]) * (r[1] - q[1])\n",
    "        if val == 0:\n",
    "            return 0\n",
    "        return 1 if val > 0 else 2\n",
    "    def is_on_segment(p, q, r):\n",
    "        if q[0] <= max(p[0], r[0]) and q[0] >= min(p[0], r[0]) and \\\n",
    "            q[1] <= max(p[1], r[1]) and q[1] >= min(p[1], r[1]):\n",
    "            return True\n",
    "        return False\n",
    "    p1 = line1[0]\n",
    "    q1 = line1[1]\n",
    "    p2 = line2[0]\n",
    "    q2 = line2[1]\n",
    "    o1 = get_orientation(p1, q1, p2)\n",
    "    o2 = get_orientation(p1, q1, q2)\n",
    "    o3 = get_orientation(p2, q2, p1)\n",
    "    o4 = get_orientation(p2, q2, q1)\n",
    "    if o1 != o2 and o3 != o4:\n",
    "        return True\n",
    "    if o1 == 0 and is_on_segment(p1, p2, q1):\n",
    "        return True\n",
    "    if o2 == 0 and is_on_segment(p1, q2, q1):\n",
    "        return True\n",
    "    if o3 == 0 and is_on_segment(p2, p1, q2):\n",
    "        return True\n",
    "    if o4 == 0 and is_on_segment(p2, q1, q2):\n",
    "        return True\n",
    "    return False\n",
    "\n",
    "def shugam_shalgah(bbox, line):\n",
    "    x, y, w, h = bbox\n",
    "    bbox_line1 = [(x, y), (x + w, y)]\n",
    "    bbox_line2 = [(x + w, y), (x + w, y + h)]\n",
    "    bbox_line3 = [(x, y), (x, y + h)]\n",
    "    bbox_line4 = [(x, y + h), (x + w, y + h)]\n",
    "    if ogtlol(bbox_line1, line) or \\\n",
    "            ogtlol(bbox_line2, line) or \\\n",
    "            ogtlol(bbox_line3, line) or \\\n",
    "            ogtlol(bbox_line4, line):\n",
    "        return True\n",
    "    return False"
   ]
  },
  {
   "cell_type": "code",
   "execution_count": 17,
   "metadata": {},
   "outputs": [],
   "source": [
    "def video_unshih(path):\n",
    "    video = cv2.VideoCapture(path)\n",
    "    width  = video.get(3)  # float\n",
    "    height = video.get(4) # float\n",
    "    if not video.isOpened():\n",
    "        return None\n",
    "    ok, first_frame = video.read()\n",
    "    if not ok:\n",
    "        return None\n",
    "    return video,first_frame,width,height"
   ]
  },
  {
   "cell_type": "code",
   "execution_count": 18,
   "metadata": {},
   "outputs": [],
   "source": [
    "def click(event, x, y, flags, param):\n",
    "    if event == cv2.EVENT_LBUTTONDOWN:\n",
    "        refPt.append((x,y))"
   ]
  },
  {
   "cell_type": "code",
   "execution_count": 19,
   "metadata": {},
   "outputs": [],
   "source": [
    "def mashin_detection(frame,bbox):\n",
    "    results = dn.performDetect(\"temp.png\")\n",
    "    nbbox = []\n",
    "    for cat, score, bounds in results:\n",
    "        temp = cat\n",
    "        if not temp == \"car\" and not temp == \"truck\" and not temp == \"bus\":\n",
    "            continue\n",
    "        elif score<0.5:\n",
    "            continue\n",
    "        x, y, w, h = bounds\n",
    "        bbox1 = (int(x - w / 2),int(y - h / 2),w,h)\n",
    "        flag=0\n",
    "        for j in bbox:\n",
    "            if j is None:\n",
    "                continue\n",
    "            if dawhtsal(bbox1, j) >= 0.6:\n",
    "                flag = 1\n",
    "                break\n",
    "        if flag == 0:\n",
    "            nbbox.append(bbox1)\n",
    "    return nbbox"
   ]
  },
  {
   "cell_type": "code",
   "execution_count": 23,
   "metadata": {},
   "outputs": [],
   "source": [
    "temp = video_unshih(\"4.avi\")\n",
    "if temp:\n",
    "    video,frame,width,height = temp\n",
    "else:\n",
    "    print(\"Videog unshij chadsangui\")"
   ]
  },
  {
   "cell_type": "code",
   "execution_count": 24,
   "metadata": {},
   "outputs": [],
   "source": [
    "# image = frame\n",
    "# clone = image.copy()\n",
    "# image_list = []\n",
    "# cv2.namedWindow(\"Startline\")\n",
    "# cv2.setMouseCallback(\"Startline\", click)\n",
    "# start = []\n",
    "# cnt=0\n",
    "# while True:\n",
    "#     tseg=None\n",
    "#     while True:\n",
    "#         cv2.imshow(\"Startline\", image)\n",
    "#         key = cv2.waitKey(1) & 0xFF\n",
    "#         if key == ord(\"r\"):\n",
    "#             if len(image_list)==0:\n",
    "#                 image = frame\n",
    "#             else:\n",
    "#                 image = image_list[-1]\n",
    "#                 image_list.pop()\n",
    "#         elif key == ord(\"c\"):\n",
    "#             flag_end=True\n",
    "#             break\n",
    "#         if len(tseg) == 2:\n",
    "#             color = (0, 255, 0)  \n",
    "#             thickness = 6\n",
    "#             image = cv2.line(image, refPt[0] , refPt[1] , color, thickness)\n",
    "#             break\n",
    "#     if flag_end:\n",
    "#         break\n",
    "#     start.append(tseg)\n",
    "    "
   ]
  },
  {
   "cell_type": "code",
   "execution_count": 25,
   "metadata": {},
   "outputs": [],
   "source": [
    "# Line zurah\n",
    "refPt = []\n",
    "image = frame\n",
    "clone = image.copy()\n",
    "cv2.namedWindow(\"Startline\")\n",
    "cv2.setMouseCallback(\"Startline\", click)\n",
    "start = []\n",
    "cnt=0\n",
    "while cnt<4:\n",
    "    clone2 = image.copy()\n",
    "    refPt = []\n",
    "    flag = 0\n",
    "    while True:\n",
    "        cv2.imshow(\"Startline\", image)\n",
    "        key = cv2.waitKey(1) & 0xFF\n",
    "        if key == ord(\"r\"):\n",
    "            image = clone.copy()\n",
    "            if flag == 0:\n",
    "                start.pop()\n",
    "                flag = 1\n",
    "                cnt-=1\n",
    "        elif key == ord(\"c\"):\n",
    "            break\n",
    "        if len(refPt) == 2:\n",
    "            color = (0, 255, 0)  \n",
    "            thickness = 6\n",
    "            image = cv2.line(image, refPt[0] , refPt[1] , color, thickness)\n",
    "            break\n",
    "    start.append(refPt)\n",
    "    if cnt == 3:\n",
    "        refPt = []\n",
    "        while True:\n",
    "            cv2.imshow(\"Startline\", image)\n",
    "            key = cv2.waitKey(1) & 0xFF\n",
    "            if key == ord(\"r\"):\n",
    "                image = clone.copy()\n",
    "                if flag == 0:\n",
    "                    start.pop()\n",
    "                    flag = 1\n",
    "            elif key == ord(\"c\"):\n",
    "                break\n",
    "            if len(refPt) == 2:\n",
    "                color = (0, 255, 0)  \n",
    "                thickness = 6\n",
    "                image = cv2.line(image, refPt[0] , refPt[1] , color, thickness)\n",
    "                break\n",
    "    clone = clone2.copy()\n",
    "    cnt+=1\n",
    "cv2.destroyAllWindows()\n",
    "cv2.namedWindow(\"Endline\")\n",
    "cv2.setMouseCallback(\"Endline\", click)\n",
    "clone = image.copy()\n",
    "end = []\n",
    "cnt = 0\n",
    "while cnt<4:\n",
    "    clone2 = image.copy()\n",
    "    refPt = []\n",
    "    flag = 0\n",
    "    while True:\n",
    "        cv2.imshow(\"Endline\", image)\n",
    "        key = cv2.waitKey(1) & 0xFF\n",
    "        if key == ord(\"r\"):\n",
    "            image = clone.copy()\n",
    "            if flag == 0:\n",
    "                end.pop()\n",
    "                flag = 1\n",
    "        elif key == ord(\"c\"):\n",
    "            break\n",
    "        if len(refPt) == 2:\n",
    "            color = (0, 0, 255)  \n",
    "            thickness = 6\n",
    "            image = cv2.line(image, refPt[0] , refPt[1] , color, thickness)\n",
    "            break\n",
    "    end.append(refPt)\n",
    "    if cnt == 3:\n",
    "        refPt = []\n",
    "        while True:\n",
    "            cv2.imshow(\"Endline\", image)\n",
    "            key = cv2.waitKey(1) & 0xFF\n",
    "            if key == ord(\"r\"):\n",
    "                image = clone.copy()\n",
    "                if flag == 0:\n",
    "                    end.pop()\n",
    "                    flag = 1\n",
    "            elif key == ord(\"c\"):\n",
    "                break\n",
    "            if len(refPt) == 2:\n",
    "                color = (0, 0, 255)  \n",
    "                thickness = 6\n",
    "                image = cv2.line(image, refPt[0] , refPt[1] , color, thickness)\n",
    "                break\n",
    "    clone = clone2.copy()\n",
    "    cnt+=1\n",
    "cv2.destroyAllWindows()"
   ]
  },
  {
   "cell_type": "code",
   "execution_count": 26,
   "metadata": {},
   "outputs": [],
   "source": [
    "# print(start,end)\n",
    "# Tsag uur (start ,endline)\n",
    "# start = [[(1383, 362), (1396, 375)], [(1378, 481), (1043, 471)], [(756, 366), (736, 397)], [(833, 283), (1099, 321)]]\n",
    "# end = [[(1481, 376), (1483, 408)], [(701, 506), (934, 517)], [(746, 303), (734, 352)], [(1194, 273), (1263, 273)]]\n",
    "# dulguun nuur (start ,endline)\n",
    "# start = [[(852, 338), (893, 409)], [(938, 567), (253, 556)], [(78, 384), (3, 428)], [(278, 308), (555, 321)]] \n",
    "# end = [[(973, 391), (998, 449)], [(3, 448), (38, 531)], [(45, 330), (0, 368)], [(595, 280), (702, 272)]]\n",
    "# Sapporo\n",
    "# start = [[(78, 326), (457, 323)], [(719, 259), (1134, 416)], [(1351, 489), (1056, 660)], [(304, 504), (450, 707)]]\n",
    "# end = [[(522, 302), (643, 286)], [(1328, 387), (1496, 429)], [(690, 924), (1132, 850)], [(14, 337), (49, 456)]]"
   ]
  },
  {
   "cell_type": "code",
   "execution_count": 9,
   "metadata": {},
   "outputs": [],
   "source": [
    "# cv2.imshow(\"e\", frame)\n",
    "# cv2.waitKey(10000)\n",
    "# cv2.destroyAllWindows()"
   ]
  },
  {
   "cell_type": "code",
   "execution_count": 27,
   "metadata": {
    "scrolled": true
   },
   "outputs": [
    {
     "name": "stderr",
     "output_type": "stream",
     "text": [
      "  0%|          | 4/34800 [00:00<16:36, 34.91it/s]"
     ]
    },
    {
     "name": "stdout",
     "output_type": "stream",
     "text": [
      "Unable to show image: No module named 'skimage'\n"
     ]
    },
    {
     "name": "stderr",
     "output_type": "stream",
     "text": [
      "  0%|          | 62/34800 [00:03<1:31:54,  6.30it/s]"
     ]
    },
    {
     "name": "stdout",
     "output_type": "stream",
     "text": [
      "Unable to show image: No module named 'skimage'\n"
     ]
    },
    {
     "name": "stderr",
     "output_type": "stream",
     "text": [
      "  0%|          | 122/34800 [00:07<1:16:20,  7.57it/s]"
     ]
    },
    {
     "name": "stdout",
     "output_type": "stream",
     "text": [
      "Unable to show image: No module named 'skimage'\n"
     ]
    },
    {
     "name": "stderr",
     "output_type": "stream",
     "text": [
      "  1%|          | 185/34800 [00:10<1:08:01,  8.48it/s]"
     ]
    },
    {
     "name": "stdout",
     "output_type": "stream",
     "text": [
      "Unable to show image: No module named 'skimage'\n"
     ]
    },
    {
     "name": "stderr",
     "output_type": "stream",
     "text": [
      "  1%|          | 242/34800 [00:14<1:15:18,  7.65it/s]"
     ]
    },
    {
     "name": "stdout",
     "output_type": "stream",
     "text": [
      "Unable to show image: No module named 'skimage'\n"
     ]
    },
    {
     "name": "stderr",
     "output_type": "stream",
     "text": [
      "  1%|          | 302/34800 [00:17<1:33:39,  6.14it/s]"
     ]
    },
    {
     "name": "stdout",
     "output_type": "stream",
     "text": [
      "Unable to show image: No module named 'skimage'\n"
     ]
    },
    {
     "name": "stderr",
     "output_type": "stream",
     "text": [
      "  1%|          | 365/34800 [00:21<59:56,  9.57it/s]  "
     ]
    },
    {
     "name": "stdout",
     "output_type": "stream",
     "text": [
      "Unable to show image: No module named 'skimage'\n"
     ]
    },
    {
     "name": "stderr",
     "output_type": "stream",
     "text": [
      "  1%|          | 424/34800 [00:25<1:19:27,  7.21it/s]"
     ]
    },
    {
     "name": "stdout",
     "output_type": "stream",
     "text": [
      "Unable to show image: No module named 'skimage'\n"
     ]
    },
    {
     "name": "stderr",
     "output_type": "stream",
     "text": [
      "  1%|▏         | 480/34800 [00:30<2:11:49,  4.34it/s]"
     ]
    },
    {
     "name": "stdout",
     "output_type": "stream",
     "text": [
      "Unable to show image: No module named 'skimage'\n"
     ]
    },
    {
     "name": "stderr",
     "output_type": "stream",
     "text": [
      "  2%|▏         | 540/34800 [00:34<1:57:25,  4.86it/s]"
     ]
    },
    {
     "name": "stdout",
     "output_type": "stream",
     "text": [
      "Unable to show image: No module named 'skimage'\n"
     ]
    },
    {
     "name": "stderr",
     "output_type": "stream",
     "text": [
      "  2%|▏         | 600/34800 [00:38<1:48:08,  5.27it/s]"
     ]
    },
    {
     "name": "stdout",
     "output_type": "stream",
     "text": [
      "Unable to show image: No module named 'skimage'\n"
     ]
    },
    {
     "name": "stderr",
     "output_type": "stream",
     "text": [
      "  2%|▏         | 664/34800 [00:42<1:22:15,  6.92it/s]"
     ]
    },
    {
     "name": "stdout",
     "output_type": "stream",
     "text": [
      "Unable to show image: No module named 'skimage'\n"
     ]
    },
    {
     "name": "stderr",
     "output_type": "stream",
     "text": [
      "  2%|▏         | 720/34800 [00:46<2:08:42,  4.41it/s]"
     ]
    },
    {
     "name": "stdout",
     "output_type": "stream",
     "text": [
      "Unable to show image: No module named 'skimage'\n"
     ]
    },
    {
     "name": "stderr",
     "output_type": "stream",
     "text": [
      "  2%|▏         | 780/34800 [00:51<1:52:24,  5.04it/s]"
     ]
    },
    {
     "name": "stdout",
     "output_type": "stream",
     "text": [
      "Unable to show image: No module named 'skimage'\n"
     ]
    },
    {
     "name": "stderr",
     "output_type": "stream",
     "text": [
      "  2%|▏         | 843/34800 [00:55<1:23:55,  6.74it/s]"
     ]
    },
    {
     "name": "stdout",
     "output_type": "stream",
     "text": [
      "Unable to show image: No module named 'skimage'\n"
     ]
    },
    {
     "name": "stderr",
     "output_type": "stream",
     "text": [
      "  3%|▎         | 901/34800 [01:00<2:29:30,  3.78it/s]"
     ]
    },
    {
     "name": "stdout",
     "output_type": "stream",
     "text": [
      "Unable to show image: No module named 'skimage'\n"
     ]
    },
    {
     "name": "stderr",
     "output_type": "stream",
     "text": [
      "  3%|▎         | 961/34800 [01:04<2:45:55,  3.40it/s]"
     ]
    },
    {
     "name": "stdout",
     "output_type": "stream",
     "text": [
      "Unable to show image: No module named 'skimage'\n"
     ]
    },
    {
     "name": "stderr",
     "output_type": "stream",
     "text": [
      "  3%|▎         | 1001/34800 [01:06<37:28, 15.03it/s] "
     ]
    },
    {
     "name": "stdout",
     "output_type": "stream",
     "text": [
      "70.78879809379578\n"
     ]
    },
    {
     "name": "stderr",
     "output_type": "stream",
     "text": [
      "\n"
     ]
    }
   ],
   "source": [
    "start_time = time.time()\n",
    "bbox=[]\n",
    "mashin_trackers=[]\n",
    "cv2.imwrite(\"temp.png\", frame)\n",
    "results = dn.performDetect(\"temp.png\")\n",
    "for cat, score, bounds in results:\n",
    "    temp = cat\n",
    "    if not temp == 'car' and not temp == 'truck' and not temp == 'bus':\n",
    "        continue\n",
    "    elif score<0.5:\n",
    "        continue\n",
    "    x, y, w, h = bounds\n",
    "    bbox.append((int(x - w / 2),int(y - h / 2),w,h)) \n",
    "    mashin_trackers.append([tracker(),0,None,None,0])\n",
    "for i in range(len(bbox)):\n",
    "    ok = mashin_trackers[i][0].init(frame, bbox[i])\n",
    "    for k,j in enumerate(start):\n",
    "        if shugam_shalgah(bbox[i], j):\n",
    "            mashin_trackers[i][2]=k\n",
    "fourcc = cv2.VideoWriter_fourcc(*'XVID')\n",
    "out = cv2.VideoWriter('Garalt'+tracker_type+'.avi', fourcc, 20.0, (int(width),int(height)))\n",
    "toologdson = []\n",
    "frame_det = 1\n",
    "pbar = tqdm(total=34800)\n",
    "cnt=0\n",
    "while True:\n",
    "    ok, frame = video.read()\n",
    "    pbar.update(1)\n",
    "    if cnt%2 == 1:\n",
    "        cnt+=1\n",
    "        continue\n",
    "    if cnt == 1000:\n",
    "        break\n",
    "    if not ok:\n",
    "        out.release()\n",
    "        break\n",
    "    if frame_det == 30:\n",
    "        cv2.imwrite(\"temp.png\", frame)\n",
    "        nbbox = mashin_detection(frame,bbox)\n",
    "        for ntemp in nbbox:\n",
    "            bbox.append(ntemp)\n",
    "            mashin_trackers.append([tracker(),0,None,None,0])\n",
    "            mashin_trackers[-1][0].init(frame, bbox[-1])\n",
    "        frame_det=0\n",
    "    for i in range(len(bbox)):\n",
    "        if mashin_trackers[i] is None:\n",
    "            continue\n",
    "        ok, bbox[i] = mashin_trackers[i][0].update(frame)\n",
    "        mashin_trackers[i][4]+=1\n",
    "        if mashin_trackers[i][4] == 1500:\n",
    "            mashin_trackers[i]=None\n",
    "            bbox[i]=None\n",
    "            continue\n",
    "        if mashin_trackers[i][2] is None:\n",
    "            for k,j in enumerate(start):\n",
    "                if shugam_shalgah(bbox[i], j):\n",
    "                    mashin_trackers[i][2]=k\n",
    "                    break\n",
    "        for k,j in enumerate(end):\n",
    "            if shugam_shalgah(bbox[i], j):\n",
    "                mashin_trackers[i][3]=k\n",
    "                break\n",
    "        if ok:\n",
    "            p1 = (int(bbox[i][0]), int(bbox[i][1]))\n",
    "            p2 = (int(bbox[i][0] + bbox[i][2]), int(bbox[i][1] + bbox[i][3]))\n",
    "            cv2.rectangle(frame, p1, p2, (255,0,0), 4, 1)\n",
    "        else:\n",
    "            mashin_trackers[i][1]+=1\n",
    "        if not mashin_trackers[i][3] is None:\n",
    "            bbox[i]=None\n",
    "            toologdson.append([mashin_trackers[i][2],mashin_trackers[i][3]])\n",
    "            mashin_trackers[i] = None\n",
    "            continue\n",
    "        elif mashin_trackers[i][1]>=20:\n",
    "            mashin_trackers[i] = None\n",
    "            bbox[i]=None\n",
    "            continue\n",
    "    for i in end:\n",
    "        start_point = i[0]\n",
    "        end_point = i[1]\n",
    "        color = (0, 0, 255)  \n",
    "        thickness = 6\n",
    "        frame = cv2.line(frame, start_point, end_point, color, thickness)\n",
    "    for i in start:\n",
    "        start_point = i[0]\n",
    "        end_point = i[1]\n",
    "        color = (0, 255, 0)  \n",
    "        thickness = 6\n",
    "        frame = cv2.line(frame, start_point, end_point, color, thickness)\n",
    "    out.write(frame)\n",
    "    frame_det+=1\n",
    "    cnt+=1\n",
    "    gc.collect()\n",
    "end_time = time.time()\n",
    "pbar.close()\n",
    "print(end_time-start_time)"
   ]
  },
  {
   "cell_type": "code",
   "execution_count": 28,
   "metadata": {},
   "outputs": [
    {
     "name": "stdout",
     "output_type": "stream",
     "text": [
      "Hoid--->Baruun : 5\n",
      "Hoid--->Urd : 4\n",
      "Hoid--->Hoid : 1\n",
      "Zuun--->Zuun : 2\n",
      "Urd--->Urd : 2\n",
      "Urd--->Zuun : 4\n",
      "Baruun--->Urd : 1\n"
     ]
    }
   ],
   "source": [
    "zug = {\"0\":\"Hoid\",\"1\":\"Zuun\",\"2\":\"Urd\",\"3\":\"Baruun\"}\n",
    "tooloh = {}\n",
    "for i in range(4):\n",
    "    tooloh[zug[str(i)]]={}\n",
    "for i in toologdson:\n",
    "    if i[0] is None:\n",
    "        continue\n",
    "    start_zug = zug[str(i[0])]\n",
    "    end_zug = zug[str(i[1])]\n",
    "    \n",
    "    if tooloh.get(start_zug).get(end_zug):\n",
    "        tooloh[start_zug][end_zug]+=1\n",
    "    else:\n",
    "        tooloh[start_zug][end_zug]=1\n",
    "for key in tooloh:\n",
    "    for i in tooloh[key]:\n",
    "        print(str(key)+\"--->\"+str(i)+\" : \"+str(tooloh[key][i]))"
   ]
  },
  {
   "cell_type": "code",
   "execution_count": 16,
   "metadata": {
    "scrolled": true
   },
   "outputs": [
    {
     "data": {
      "text/plain": [
       "[[None, 0],\n",
       " [None, 0],\n",
       " [1, 2],\n",
       " [None, 2],\n",
       " [3, 0],\n",
       " [3, 0],\n",
       " [None, 2],\n",
       " [None, 0],\n",
       " [None, 0],\n",
       " [None, 0],\n",
       " [3, 0],\n",
       " [3, 0],\n",
       " [3, 0],\n",
       " [None, 0],\n",
       " [None, 0],\n",
       " [2, 0],\n",
       " [2, 0],\n",
       " [2, 0],\n",
       " [2, 0],\n",
       " [None, 0],\n",
       " [None, 3],\n",
       " [2, 0],\n",
       " [2, 0],\n",
       " [None, 0],\n",
       " [2, 0],\n",
       " [None, 0],\n",
       " [2, 0],\n",
       " [1, 0],\n",
       " [2, 0],\n",
       " [None, 0],\n",
       " [2, 0],\n",
       " [2, 0],\n",
       " [2, 0],\n",
       " [1, 0],\n",
       " [2, 0],\n",
       " [2, 3],\n",
       " [2, 0],\n",
       " [2, 0],\n",
       " [2, 0],\n",
       " [None, 0],\n",
       " [3, 3],\n",
       " [2, 0],\n",
       " [2, 0],\n",
       " [2, 0],\n",
       " [None, 0],\n",
       " [2, 0],\n",
       " [2, 0],\n",
       " [2, 0],\n",
       " [2, 0],\n",
       " [2, 0],\n",
       " [None, 0],\n",
       " [2, 0],\n",
       " [1, 0],\n",
       " [2, 0],\n",
       " [2, 0],\n",
       " [None, 0]]"
      ]
     },
     "execution_count": 16,
     "metadata": {},
     "output_type": "execute_result"
    }
   ],
   "source": [
    "toologdson"
   ]
  },
  {
   "cell_type": "code",
   "execution_count": 14,
   "metadata": {},
   "outputs": [],
   "source": [
    "res = [[5,1,None],6,1,None,2,None,None,3]\n",
    "res = list(filter(None, res))"
   ]
  },
  {
   "cell_type": "code",
   "execution_count": 12,
   "metadata": {},
   "outputs": [
    {
     "data": {
      "text/plain": [
       "[[5, 1, None], 6, 1, 2, 3]"
      ]
     },
     "execution_count": 12,
     "metadata": {},
     "output_type": "execute_result"
    }
   ],
   "source": [
    "res"
   ]
  },
  {
   "cell_type": "code",
   "execution_count": null,
   "metadata": {},
   "outputs": [],
   "source": []
  }
 ],
 "metadata": {
  "kernelspec": {
   "display_name": "Python 3",
   "language": "python",
   "name": "python3"
  },
  "language_info": {
   "codemirror_mode": {
    "name": "ipython",
    "version": 3
   },
   "file_extension": ".py",
   "mimetype": "text/x-python",
   "name": "python",
   "nbconvert_exporter": "python",
   "pygments_lexer": "ipython3",
   "version": "3.7.5"
  }
 },
 "nbformat": 4,
 "nbformat_minor": 4
}
